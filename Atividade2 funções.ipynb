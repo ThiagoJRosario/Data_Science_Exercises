{
 "cells": [
  {
   "cell_type": "markdown",
   "metadata": {},
   "source": [
    "1. Faça um programa que tenha uma função chamada amplitude. A função deve receber uma lista e\n",
    "imprimir a amplitude.\n",
    "Crie também um código para testar sua função"
   ]
  },
  {
   "cell_type": "code",
   "execution_count": 1,
   "metadata": {},
   "outputs": [
    {
     "name": "stdout",
     "output_type": "stream",
     "text": [
      "Amplitude: 98\n"
     ]
    }
   ],
   "source": [
    "def amplitude(vet):\n",
    "    print(\"Amplitude:\", max(vet) - min(vet))\n",
    "\n",
    "vetor = [12,23,45,2,100]    \n",
    "amplitude(vetor)"
   ]
  },
  {
   "cell_type": "markdown",
   "metadata": {},
   "source": [
    "2. Faça uma função que receba uma string e imprima esta string na forma vertical\n",
    "Por exemplo, se receber python, deve imprimir\n",
    "p\n",
    "y\n",
    "t\n",
    "h\n",
    "o\n",
    "n"
   ]
  },
  {
   "cell_type": "code",
   "execution_count": null,
   "metadata": {},
   "outputs": [],
   "source": [
    "def vertical(txt):\n",
    "    for n in txt:\n",
    "        print(f'{n}\\n')\n",
    "\n",
    "txt = str(input('Digite uma palavra: '))  \n",
    "vertical(txt)  "
   ]
  },
  {
   "cell_type": "markdown",
   "metadata": {},
   "source": [
    "3. Crie um programa que leia o peso de uma carga em números inteiros. Se o peso for até 10 kg, informe\n",
    "que o valor será de R$ 50,00. Entre 11 e 20 kg, informe que o valor será de R$ 80. Se for maior que 20\n",
    "informe que o transporte não é aceito. Teste vários pesos."
   ]
  },
  {
   "cell_type": "code",
   "execution_count": null,
   "metadata": {},
   "outputs": [],
   "source": [
    "def peso(n):\n",
    "    if n <= 10:\n",
    "        print('O valor do frete será de R$50,00')\n",
    "    elif n > 10 and n <= 20:\n",
    "        print('O valor do frete será de R$80,00')\n",
    "    else:\n",
    "        print('este peso é muito alto, não conseguimos entregar')\n",
    "\n",
    "\n",
    "p = (float(input('Digite o peso da encomenda para saber o o valor do frete: ')))\n",
    "peso(p)"
   ]
  }
 ],
 "metadata": {
  "kernelspec": {
   "display_name": "Python 3.10.8 64-bit",
   "language": "python",
   "name": "python3"
  },
  "language_info": {
   "codemirror_mode": {
    "name": "ipython",
    "version": 3
   },
   "file_extension": ".py",
   "mimetype": "text/x-python",
   "name": "python",
   "nbconvert_exporter": "python",
   "pygments_lexer": "ipython3",
   "version": "3.10.8"
  },
  "orig_nbformat": 4,
  "vscode": {
   "interpreter": {
    "hash": "d044c6e0ce06759120adefce77398d00e1228e64d92f3f185fbd024a7701b8e0"
   }
  }
 },
 "nbformat": 4,
 "nbformat_minor": 2
}
